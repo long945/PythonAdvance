{
  "nbformat": 4,
  "nbformat_minor": 0,
  "metadata": {
    "colab": {
      "name": "Lab04.ipynb",
      "provenance": [],
      "authorship_tag": "ABX9TyPdGnrJLqbTxj9Ip25LPTor",
      "include_colab_link": true
    },
    "kernelspec": {
      "name": "python3",
      "display_name": "Python 3"
    },
    "language_info": {
      "name": "python"
    }
  },
  "cells": [
    {
      "cell_type": "markdown",
      "metadata": {
        "id": "view-in-github",
        "colab_type": "text"
      },
      "source": [
        "<a href=\"https://colab.research.google.com/github/long945/PythonAdvance/blob/main/Lab04/Lab04.ipynb\" target=\"_parent\"><img src=\"https://colab.research.google.com/assets/colab-badge.svg\" alt=\"Open In Colab\"/></a>"
      ]
    },
    {
      "cell_type": "code",
      "metadata": {
        "id": "WP1pUfwaZbNG",
        "colab": {
          "base_uri": "https://localhost:8080/"
        },
        "outputId": "ca97067a-162e-4c2d-b562-faa71c9bd05b"
      },
      "source": [
        "vowels = {'a', 'e', 'a', 'a', 'i', 'o', 'u', 'u'}\n",
        "print(vowels)"
      ],
      "execution_count": null,
      "outputs": [
        {
          "output_type": "stream",
          "name": "stdout",
          "text": [
            "{'u', 'o', 'i', 'e', 'a'}\n"
          ]
        }
      ]
    },
    {
      "cell_type": "code",
      "metadata": {
        "id": "Gs140NqWgIVI"
      },
      "source": [
        "def find_dups(L):\n",
        "  elem_set = set()\n",
        "  dups_set = set()\n",
        "  for entry in L:\n",
        "    len_initial = len(elem_set)\n",
        "    elem_set.add(entry)\n",
        "    len_after = len(elem_set)\n",
        "    if len_initial == len_after:\n",
        "      dups_set.add(entry)\n",
        "  return(dups_set)"
      ],
      "execution_count": 1,
      "outputs": []
    },
    {
      "cell_type": "code",
      "metadata": {
        "colab": {
          "base_uri": "https://localhost:8080/"
        },
        "id": "UAQZR9eXgRsg",
        "outputId": "b2f3a2ff-894b-4c47-ef56-7df891695ecb"
      },
      "source": [
        "find_dups([4,5,6,1,8,2,4,89,1,6,4,5,1,8,2])"
      ],
      "execution_count": 2,
      "outputs": [
        {
          "output_type": "execute_result",
          "data": {
            "text/plain": [
              "{1, 2, 4, 5, 6, 8}"
            ]
          },
          "metadata": {},
          "execution_count": 2
        }
      ]
    },
    {
      "cell_type": "code",
      "metadata": {
        "id": "_helgsPggT5p"
      },
      "source": [
        "def mating_pairs(males, females):\n",
        " \"\"\" (set, set) -> set of tuple\n",
        " Return a set of tuples where each tuple contains a male from males \n",
        "and a\n",
        " female from females.\n",
        " >>> mating_pairs({'Anne', 'Beatrice', 'Cari'}, {'Ali', 'Bob', \n",
        "'Chen'})\n",
        " {('Cari', 'Chen'), ('Beatrice', 'Bob'), ('Anne', 'Ali')}\n",
        " \"\"\"\n",
        " pairs = set()\n",
        " num_gerbils = len(males)\n",
        " for i in range(num_gerbils):\n",
        "  male = males.pop()\n",
        "  female = females.pop()\n",
        "  pairs.add((male, female))\n",
        " return pairs"
      ],
      "execution_count": 3,
      "outputs": []
    },
    {
      "cell_type": "code",
      "metadata": {
        "id": "ld_p3TkjgWTB"
      },
      "source": [
        "males = {'Anna','Jane','Sophia'}\n",
        "females = {'Bob','David','Tom'}\n",
        "def mating_couple(males,females):\n",
        "  couple = set()\n",
        "  for i in range(len(males)):\n",
        "    male = males.pop()\n",
        "    female = females.pop()\n",
        "    couple.add((male, female))\n",
        "  return couple"
      ],
      "execution_count": 4,
      "outputs": []
    },
    {
      "cell_type": "code",
      "metadata": {
        "colab": {
          "base_uri": "https://localhost:8080/"
        },
        "id": "-0O_8lmEgYRQ",
        "outputId": "07d37a31-a80f-4f0a-c5d2-36b6a66d7002"
      },
      "source": [
        "mating_couple(males,females)"
      ],
      "execution_count": 5,
      "outputs": [
        {
          "output_type": "execute_result",
          "data": {
            "text/plain": [
              "{('Anna', 'Bob'), ('Jane', 'David'), ('Sophia', 'Tom')}"
            ]
          },
          "metadata": {},
          "execution_count": 5
        }
      ]
    },
    {
      "cell_type": "code",
      "metadata": {
        "id": "k7Ekf57egaKh"
      },
      "source": [
        "\n",
        "def count_values(dic):\n",
        "  tontai = []\n",
        "  for key, value in dic.items():\n",
        "    tontai.append(value)\n",
        "  for key, value in dic.items():\n",
        "    count = 0\n",
        "    for i in tontai:\n",
        "      if i == value:\n",
        "        count = count + 1\n",
        "    if count == 1:\n",
        "      print(value)"
      ],
      "execution_count": 6,
      "outputs": []
    },
    {
      "cell_type": "code",
      "metadata": {
        "colab": {
          "base_uri": "https://localhost:8080/"
        },
        "id": "P0x8x2H5gdMw",
        "outputId": "d35c556d-324b-4727-dea4-becf413bee4a"
      },
      "source": [
        "dic = {'red': 1, 'green': 1, 'blue': 2}\n",
        "count_values(dic)"
      ],
      "execution_count": 7,
      "outputs": [
        {
          "output_type": "stream",
          "name": "stdout",
          "text": [
            "2\n"
          ]
        }
      ]
    },
    {
      "cell_type": "code",
      "metadata": {
        "id": "066m4pO_ghqg"
      },
      "source": [
        "def least(dic):\n",
        "  min = 999999999999999999999999999\n",
        "  for key, value in dic.items():\n",
        "    if value < min:\n",
        "      min = value\n",
        "      str1 = key\n",
        "    else:\n",
        "      continue\n",
        "  for key, value in dic.items():\n",
        "    if key == str1:\n",
        "      print(key)"
      ],
      "execution_count": 8,
      "outputs": []
    },
    {
      "cell_type": "code",
      "metadata": {
        "colab": {
          "base_uri": "https://localhost:8080/"
        },
        "id": "1MbgXLfAgmda",
        "outputId": "1318aad1-1b74-45d3-a4b7-fcd2127c3b75"
      },
      "source": [
        "nguyentu = {'neutron': 0.55, 'proton': 0.21, 'meson': 0.03, 'muon': 0.07, 'neutrino': 0.80}\n",
        "least(nguyentu)"
      ],
      "execution_count": 9,
      "outputs": [
        {
          "output_type": "stream",
          "name": "stdout",
          "text": [
            "meson\n"
          ]
        }
      ]
    },
    {
      "cell_type": "code",
      "metadata": {
        "id": "93h7FgengrfI"
      },
      "source": [
        "def count(dic):\n",
        "  count = []\n",
        "  for key, value in dic.items():\n",
        "    if value in count:\n",
        "      print(value)\n",
        "    else:\n",
        "      count.append(value)"
      ],
      "execution_count": 10,
      "outputs": []
    },
    {
      "cell_type": "code",
      "metadata": {
        "colab": {
          "base_uri": "https://localhost:8080/"
        },
        "id": "CXmYUQFRgtZJ",
        "outputId": "99c9dff9-a358-4402-8699-44e278a922ac"
      },
      "source": [
        "\n",
        "dic = {'red': 1, 'green': 1, 'blue': 2}\n",
        "count(dic)"
      ],
      "execution_count": 11,
      "outputs": [
        {
          "output_type": "stream",
          "name": "stdout",
          "text": [
            "1\n"
          ]
        }
      ]
    },
    {
      "cell_type": "code",
      "metadata": {
        "id": "cz26El40guuI"
      },
      "source": [
        "def is_balanced(dic):\n",
        "  balanced=0\n",
        "  for key, value in dic.items():\n",
        "    balanced += value\n",
        "  if balanced == 1:\n",
        "    return True\n",
        "  else:\n",
        "    return False"
      ],
      "execution_count": 12,
      "outputs": []
    },
    {
      "cell_type": "code",
      "metadata": {
        "colab": {
          "base_uri": "https://localhost:8080/"
        },
        "id": "xH3BJ2-Lgx1Y",
        "outputId": "427d7213-4fb6-4116-dc80-ca6e411d13a7"
      },
      "source": [
        "\n",
        "color = {'R':0.3,'G':0.3,'B':0.2}\n",
        "is_balanced(color)"
      ],
      "execution_count": 13,
      "outputs": [
        {
          "output_type": "execute_result",
          "data": {
            "text/plain": [
              "False"
            ]
          },
          "metadata": {},
          "execution_count": 13
        }
      ]
    },
    {
      "cell_type": "code",
      "metadata": {
        "id": "ibcJxUeIgzhQ"
      },
      "source": [
        "\n",
        "def dict_intersect(dic1,dic2):\n",
        "  dic3 = {}\n",
        "  for key, value in dic1.items():\n",
        "    for key1, value1 in dic2.items():\n",
        "      if ((key == key1) and (value ==value1)):\n",
        "        dic3[key] = value\n",
        "  return dic3"
      ],
      "execution_count": 14,
      "outputs": []
    },
    {
      "cell_type": "code",
      "metadata": {
        "colab": {
          "base_uri": "https://localhost:8080/"
        },
        "id": "tipHWwOIg1TQ",
        "outputId": "80c00b39-2f14-46ff-d73c-6c426e7d24d3"
      },
      "source": [
        "dic1 = {'red': 1, 'green': 1, 'blue': 2}\n",
        "dic2 = {'red': 1, 'green': 5, 'blue': 2, 'black': 4}\n",
        "dict_intersect(dic1,dic2)"
      ],
      "execution_count": 15,
      "outputs": [
        {
          "output_type": "execute_result",
          "data": {
            "text/plain": [
              "{'blue': 2, 'red': 1}"
            ]
          },
          "metadata": {},
          "execution_count": 15
        }
      ]
    }
  ]
}
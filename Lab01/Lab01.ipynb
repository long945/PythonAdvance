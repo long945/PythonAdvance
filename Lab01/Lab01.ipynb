{
  "nbformat": 4,
  "nbformat_minor": 2,
  "metadata": {
    "colab": {
      "name": "Lab01.ipynb",
      "provenance": [],
      "authorship_tag": "ABX9TyPQzWO4YUfsf3DW7uM6k72h",
      "include_colab_link": true
    },
    "kernelspec": {
      "name": "python3",
      "display_name": "Python 3"
    },
    "language_info": {
      "name": "python"
    }
  },
  "cells": [
    {
      "cell_type": "markdown",
      "source": [
        "\r\n",
        "<a href=\"https://colab.research.google.com/github/long945/Lab01/blob/main/Lab01.ipynb\" target=\"_parent\"><img src=\"https://colab.research.google.com/assets/colab-badge.svg\" alt=\"Open In Colab\"/></a>"
      ],
      "metadata": {
        "id": "view-in-github",
        "colab_type": "text"
      }
    },
    {
      "cell_type": "code",
      "execution_count": null,
      "source": [
        "Lab 01 (Bài tập chương 3)"
      ],
      "outputs": [],
      "metadata": {
        "id": "p39vNUN1N1M3"
      }
    },
    {
      "cell_type": "code",
      "execution_count": null,
      "source": [
        "min(2,3,4)"
      ],
      "outputs": [
        {
          "output_type": "execute_result",
          "data": {
            "text/plain": [
              "2"
            ]
          },
          "metadata": {},
          "execution_count": 1
        }
      ],
      "metadata": {
        "colab": {
          "base_uri": "https://localhost:8080/"
        },
        "id": "GH-xxJOkNKPd",
        "outputId": "c4fbc51e-8de6-41f2-bd7f-e0f64b38e588"
      }
    },
    {
      "cell_type": "code",
      "execution_count": null,
      "source": [
        "max(2,-3,4,7,-5)"
      ],
      "outputs": [
        {
          "output_type": "execute_result",
          "data": {
            "text/plain": [
              "7"
            ]
          },
          "metadata": {},
          "execution_count": 3
        }
      ],
      "metadata": {
        "colab": {
          "base_uri": "https://localhost:8080/"
        },
        "id": "r7DLQFwxOSI5",
        "outputId": "5b972a2b-81eb-489c-e0e7-7ef3dfc2efd6"
      }
    },
    {
      "cell_type": "code",
      "execution_count": null,
      "source": [
        "max(2,-3,min(4,7),-5)"
      ],
      "outputs": [
        {
          "output_type": "execute_result",
          "data": {
            "text/plain": [
              "4"
            ]
          },
          "metadata": {},
          "execution_count": 4
        }
      ],
      "metadata": {
        "colab": {
          "base_uri": "https://localhost:8080/"
        },
        "id": "Ut9-1RDROaKK",
        "outputId": "f3f09dbc-67b6-4fa6-a445-7ce183ebd084"
      }
    },
    {
      "cell_type": "code",
      "execution_count": null,
      "source": [
        "min(max(3,4),abs(-5))"
      ],
      "outputs": [
        {
          "output_type": "execute_result",
          "data": {
            "text/plain": [
              "4"
            ]
          },
          "metadata": {},
          "execution_count": 5
        }
      ],
      "metadata": {
        "colab": {
          "base_uri": "https://localhost:8080/"
        },
        "id": "OfeAGNbnOvxx",
        "outputId": "20b6cd03-4563-4bc2-928f-5eae0b8acdf2"
      }
    },
    {
      "cell_type": "code",
      "execution_count": null,
      "source": [
        "abs(min(4,6,max(2,8)))"
      ],
      "outputs": [
        {
          "output_type": "execute_result",
          "data": {
            "text/plain": [
              "4"
            ]
          },
          "metadata": {},
          "execution_count": 6
        }
      ],
      "metadata": {
        "colab": {
          "base_uri": "https://localhost:8080/"
        },
        "id": "W_OBhNDCPV7D",
        "outputId": "f9cded75-adfa-4728-b661-11ab159aaefa"
      }
    },
    {
      "cell_type": "code",
      "execution_count": null,
      "source": [
        "round(max(5.572,3.258),abs(-2))"
      ],
      "outputs": [
        {
          "output_type": "execute_result",
          "data": {
            "text/plain": [
              "5.57"
            ]
          },
          "metadata": {},
          "execution_count": 33
        }
      ],
      "metadata": {
        "colab": {
          "base_uri": "https://localhost:8080/"
        },
        "id": "aR1zGEvDPhYh",
        "outputId": "24f24ec1-622b-4e7a-8ec9-a0c654f13f19"
      }
    },
    {
      "cell_type": "markdown",
      "source": [],
      "metadata": {
        "id": "JDIjSI6zcBJm"
      }
    },
    {
      "cell_type": "code",
      "execution_count": null,
      "source": [
        "def triple(num):\n",
        " return num * 3\n",
        "\n",
        "triple(3)\n",
        "\n",
        "\n"
      ],
      "outputs": [
        {
          "output_type": "execute_result",
          "data": {
            "text/plain": [
              "9"
            ]
          },
          "metadata": {},
          "execution_count": 58
        }
      ],
      "metadata": {
        "id": "Y4ZUj7IgWBZA",
        "colab": {
          "base_uri": "https://localhost:8080/"
        },
        "outputId": "b678a37b-c21d-427a-e4c1-d61b3925c743"
      }
    },
    {
      "cell_type": "code",
      "execution_count": null,
      "source": [
        "def absolute_difference(number1, number2):\n",
        "\n",
        "    return abs(3 - 7)\n",
        "\n",
        "absolute_difference(3, 7)\n"
      ],
      "outputs": [
        {
          "output_type": "execute_result",
          "data": {
            "text/plain": [
              "4"
            ]
          },
          "metadata": {},
          "execution_count": 64
        }
      ],
      "metadata": {
        "colab": {
          "base_uri": "https://localhost:8080/"
        },
        "id": "nLe3Wg1vfPzn",
        "outputId": "6409073b-38e0-4705-fa18-3b346ac7b394"
      }
    },
    {
      "cell_type": "code",
      "execution_count": null,
      "source": [
        "def km_to_miles(km):\n",
        "\n",
        "    return km / 1.6\n",
        "\n",
        "km_to_miles(5)\n"
      ],
      "outputs": [
        {
          "output_type": "execute_result",
          "data": {
            "text/plain": [
              "3.125"
            ]
          },
          "metadata": {},
          "execution_count": 69
        }
      ],
      "metadata": {
        "colab": {
          "base_uri": "https://localhost:8080/"
        },
        "id": "z8i9g3LUfa8G",
        "outputId": "45dd5e77-7e1d-4eca-bc82-77678a22df48"
      }
    },
    {
      "cell_type": "code",
      "execution_count": null,
      "source": [
        "def average_grade(grade1, grade2, grade3):\n",
        "  return (grade1 + grade2 + grade3) / 3\n",
        "\n",
        "average_grade(80, 95, 90)"
      ],
      "outputs": [
        {
          "output_type": "execute_result",
          "data": {
            "text/plain": [
              "88.33333333333333"
            ]
          },
          "metadata": {},
          "execution_count": 72
        }
      ],
      "metadata": {
        "colab": {
          "base_uri": "https://localhost:8080/"
        },
        "id": "NyRJYTPnfe5Y",
        "outputId": "2d1bfba1-f489-4342-b6ff-a4d7a45a1afc"
      }
    },
    {
      "cell_type": "code",
      "execution_count": null,
      "source": [
        "def top_three_avg(grade1, grade2, grade3, grade4):\n",
        "\n",
        " # Here is one solution that does not use average_grade from Q6.\n",
        " total = grade1 + grade2 + grade3 + grade4\n",
        " top_three = total - min(grade1, grade2, grade3, grade4)\n",
        " return top_three / 3\n",
        " # Here is a different solution that does use the function from Q6.\n",
        " return max(average_grade(grade1, grade2, grade3),\n",
        " average_grade(grade1, grade2, grade4),\n",
        " average_grade(grade1, grade3, grade4),\n",
        " average_grade(grade2, grade3, grade4))\n",
        " return (grade1 + grade2 + grade3) / 3\n",
        "top_three_avg(50, 60, 70, 80)\n",
        "70"
      ],
      "outputs": [
        {
          "output_type": "execute_result",
          "data": {
            "text/plain": [
              "70"
            ]
          },
          "metadata": {},
          "execution_count": 74
        }
      ],
      "metadata": {
        "colab": {
          "base_uri": "https://localhost:8080/"
        },
        "id": "ZfffHzmqhp__",
        "outputId": "2e9760da-dfbc-4a2d-d50e-aada4a85fb87"
      }
    },
    {
      "cell_type": "code",
      "execution_count": null,
      "source": [
        "def weeks_elapsed(day1, day2):\n",
        "  return (day2 - day1) / 7\n",
        "\n",
        "weeks_elapsed(3,20)"
      ],
      "outputs": [
        {
          "output_type": "execute_result",
          "data": {
            "text/plain": [
              "2.4285714285714284"
            ]
          },
          "metadata": {},
          "execution_count": 111
        }
      ],
      "metadata": {
        "colab": {
          "base_uri": "https://localhost:8080/"
        },
        "id": "3dW4hHmehyt-",
        "outputId": "10c4cb6f-93e3-4b0f-ad5a-65880187d6fb"
      }
    },
    {
      "cell_type": "code",
      "execution_count": null,
      "source": [
        "def weeks_elapsed(day1, day2):\n",
        "  return (day1 - day2) / 7\n",
        "\n",
        "weeks_elapsed(20, 3)"
      ],
      "outputs": [
        {
          "output_type": "execute_result",
          "data": {
            "text/plain": [
              "2.4285714285714284"
            ]
          },
          "metadata": {},
          "execution_count": 112
        }
      ],
      "metadata": {
        "colab": {
          "base_uri": "https://localhost:8080/"
        },
        "id": "hMwzdWAIoFZt",
        "outputId": "47190870-284d-426a-b06a-fd853116e6f8"
      }
    },
    {
      "cell_type": "code",
      "execution_count": null,
      "source": [
        "def weeks_elapsed(day1, day2):\n",
        "  return (day1 - day2) / 7\n",
        "\n",
        "weeks_elapsed(8, 5) "
      ],
      "outputs": [
        {
          "output_type": "execute_result",
          "data": {
            "text/plain": [
              "0.42857142857142855"
            ]
          },
          "metadata": {},
          "execution_count": 113
        }
      ],
      "metadata": {
        "colab": {
          "base_uri": "https://localhost:8080/"
        },
        "id": "JL1GTcTMoLo-",
        "outputId": "3306c616-3ff6-4489-ea7d-9bf3018cb02f"
      }
    },
    {
      "cell_type": "code",
      "execution_count": null,
      "source": [
        "def weeks_elapsed(day1, day2):\n",
        "  return (day2 - day1) / 7\n",
        "\n",
        "weeks_elapsed(40, 61) "
      ],
      "outputs": [
        {
          "output_type": "execute_result",
          "data": {
            "text/plain": [
              "3.0"
            ]
          },
          "metadata": {},
          "execution_count": 115
        }
      ],
      "metadata": {
        "colab": {
          "base_uri": "https://localhost:8080/"
        },
        "id": "y3a7WPPpoPF2",
        "outputId": "c06a57f3-fee7-407f-bd10-122cb10022ad"
      }
    },
    {
      "cell_type": "code",
      "execution_count": null,
      "source": [
        "def square(num):\n",
        "  return num * 3\n",
        "\n",
        "square(3)\n"
      ],
      "outputs": [
        {
          "output_type": "execute_result",
          "data": {
            "text/plain": [
              "9"
            ]
          },
          "metadata": {},
          "execution_count": 119
        }
      ],
      "metadata": {
        "colab": {
          "base_uri": "https://localhost:8080/"
        },
        "id": "jitlONhbqaLX",
        "outputId": "0f4a0248-28b9-433f-904c-abb006dad67a"
      }
    },
    {
      "cell_type": "code",
      "execution_count": null,
      "source": [
        "import math\n",
        "math.floor(-2.8)\n",
        "abs(round(-4.3))\n",
        "math.ceil(math.sin(34.5))\n"
      ],
      "outputs": [
        {
          "output_type": "execute_result",
          "data": {
            "text/plain": [
              "1"
            ]
          },
          "metadata": {},
          "execution_count": 125
        }
      ],
      "metadata": {
        "colab": {
          "base_uri": "https://localhost:8080/"
        },
        "id": "bV0870HprhAl",
        "outputId": "6d190870-059b-4280-d23f-592c203c560e"
      }
    },
    {
      "cell_type": "code",
      "execution_count": null,
      "source": [
        "import calendar\n",
        "help(calendar.isleap)\n",
        "calendar.isleap(2016)\n",
        "dir(calendar)\n",
        "calendar.leapdays(2000, 2050)\n",
        "calendar.weekday(2016, 7, 29)"
      ],
      "outputs": [
        {
          "output_type": "stream",
          "name": "stdout",
          "text": [
            "Help on function isleap in module calendar:\n",
            "\n",
            "isleap(year)\n",
            "    Return True for leap years, False for non-leap years.\n",
            "\n"
          ]
        },
        {
          "output_type": "execute_result",
          "data": {
            "text/plain": [
              "4"
            ]
          },
          "metadata": {},
          "execution_count": 126
        }
      ],
      "metadata": {
        "colab": {
          "base_uri": "https://localhost:8080/"
        },
        "id": "3hZDqVb2sBS1",
        "outputId": "34177db1-2dc1-452a-8b31-3008d0bdc302"
      }
    },
    {
      "cell_type": "code",
      "execution_count": null,
      "source": [],
      "outputs": [],
      "metadata": {
        "id": "v0wFI14yr6VL"
      }
    },
    {
      "cell_type": "code",
      "execution_count": null,
      "source": [
        "import doctest\n",
        "def average(num1: float, num2: float) -> float:\n",
        "  return (num1 + num2) / 2\n",
        "average(10,20)\n"
      ],
      "outputs": [
        {
          "output_type": "execute_result",
          "data": {
            "text/plain": [
              "15.0"
            ]
          },
          "metadata": {},
          "execution_count": 131
        }
      ],
      "metadata": {
        "colab": {
          "base_uri": "https://localhost:8080/"
        },
        "id": "hJHODJPisMId",
        "outputId": "afc6f750-35be-45ca-fcfe-10365a8cbb45"
      }
    },
    {
      "cell_type": "code",
      "execution_count": null,
      "source": [
        "def average(num1: float, num2: float) -> float:\n",
        "  return (num1 + num2) / 2\n",
        "\n",
        "average(2.5, 3.0)"
      ],
      "outputs": [
        {
          "output_type": "execute_result",
          "data": {
            "text/plain": [
              "2.75"
            ]
          },
          "metadata": {},
          "execution_count": 132
        }
      ],
      "metadata": {
        "colab": {
          "base_uri": "https://localhost:8080/"
        },
        "id": "AKRTHh1esZBs",
        "outputId": "6dbd2f2e-3d78-4902-dccc-a9c96d400eb6"
      }
    },
    {
      "cell_type": "markdown",
      "source": [
        "Câu 1"
      ],
      "metadata": {
        "id": "YrA5BUzBYDko"
      }
    },
    {
      "cell_type": "code",
      "execution_count": null,
      "source": [
        "'hello'.upper()"
      ],
      "outputs": [
        {
          "output_type": "execute_result",
          "data": {
            "application/vnd.google.colaboratory.intrinsic+json": {
              "type": "string"
            },
            "text/plain": [
              "'HELLO'"
            ]
          },
          "metadata": {},
          "execution_count": 133
        }
      ],
      "metadata": {
        "colab": {
          "base_uri": "https://localhost:8080/",
          "height": 35
        },
        "id": "_r1N0F7PtCrl",
        "outputId": "b0140033-e4d9-4407-f956-7da8a4192eb7"
      }
    },
    {
      "cell_type": "code",
      "execution_count": null,
      "source": [
        "'Happy Birthday!'.lower()\n"
      ],
      "outputs": [
        {
          "output_type": "execute_result",
          "data": {
            "application/vnd.google.colaboratory.intrinsic+json": {
              "type": "string"
            },
            "text/plain": [
              "'happy birthday!'"
            ]
          },
          "metadata": {},
          "execution_count": 134
        }
      ],
      "metadata": {
        "colab": {
          "base_uri": "https://localhost:8080/",
          "height": 35
        },
        "id": "EsVg7JabtG7u",
        "outputId": "5c5ddf0c-f716-4c4b-f359-8f8b05e22f6a"
      }
    },
    {
      "cell_type": "code",
      "execution_count": null,
      "source": [
        "'WeeeEEEEeeeEEEEeee'.swapcase()"
      ],
      "outputs": [
        {
          "output_type": "execute_result",
          "data": {
            "application/vnd.google.colaboratory.intrinsic+json": {
              "type": "string"
            },
            "text/plain": [
              "'wEEEeeeeEEEeeeeEEE'"
            ]
          },
          "metadata": {},
          "execution_count": 135
        }
      ],
      "metadata": {
        "colab": {
          "base_uri": "https://localhost:8080/",
          "height": 35
        },
        "id": "qfYRjpcQtKgN",
        "outputId": "c79e89a8-f214-4bbf-a6c0-cbaeff02de70"
      }
    },
    {
      "cell_type": "code",
      "execution_count": null,
      "source": [
        "'ABC123'.isupper()"
      ],
      "outputs": [
        {
          "output_type": "execute_result",
          "data": {
            "text/plain": [
              "True"
            ]
          },
          "metadata": {},
          "execution_count": 136
        }
      ],
      "metadata": {
        "colab": {
          "base_uri": "https://localhost:8080/"
        },
        "id": "gpR2RwBytN-u",
        "outputId": "28eb77ac-47bb-47a1-cd6b-5d9e36eb6656"
      }
    },
    {
      "cell_type": "code",
      "execution_count": null,
      "source": [
        "'aeiouAEIOU'.count('a')\n"
      ],
      "outputs": [
        {
          "output_type": "execute_result",
          "data": {
            "text/plain": [
              "1"
            ]
          },
          "metadata": {},
          "execution_count": 137
        }
      ],
      "metadata": {
        "colab": {
          "base_uri": "https://localhost:8080/"
        },
        "id": "FoTiQQJdtRB1",
        "outputId": "40a9f2e0-9df0-4736-dc04-c25e06a05f74"
      }
    },
    {
      "cell_type": "code",
      "execution_count": null,
      "source": [
        "'hello'.endswith('o')"
      ],
      "outputs": [
        {
          "output_type": "execute_result",
          "data": {
            "text/plain": [
              "True"
            ]
          },
          "metadata": {},
          "execution_count": 138
        }
      ],
      "metadata": {
        "colab": {
          "base_uri": "https://localhost:8080/"
        },
        "id": "7FA79PzVtTy4",
        "outputId": "83acb0d0-c468-45ee-8c00-3a010671ec92"
      }
    },
    {
      "cell_type": "code",
      "execution_count": null,
      "source": [
        "'hello'.startswith('H')\n"
      ],
      "outputs": [
        {
          "output_type": "execute_result",
          "data": {
            "text/plain": [
              "False"
            ]
          },
          "metadata": {},
          "execution_count": 139
        }
      ],
      "metadata": {
        "colab": {
          "base_uri": "https://localhost:8080/"
        },
        "id": "YBlG2VvOtWr9",
        "outputId": "953d8c5d-8167-4fb1-cb55-48df5af8a4da"
      }
    },
    {
      "cell_type": "code",
      "execution_count": null,
      "source": [
        "'Hello {0}'.format('Python')\n"
      ],
      "outputs": [
        {
          "output_type": "execute_result",
          "data": {
            "application/vnd.google.colaboratory.intrinsic+json": {
              "type": "string"
            },
            "text/plain": [
              "'Hello Python'"
            ]
          },
          "metadata": {},
          "execution_count": 140
        }
      ],
      "metadata": {
        "colab": {
          "base_uri": "https://localhost:8080/",
          "height": 35
        },
        "id": "bfV0XEBPtadM",
        "outputId": "d075c889-0cb0-49bc-e922-7310bb30dcf6"
      }
    },
    {
      "cell_type": "markdown",
      "source": [],
      "metadata": {
        "id": "0CL0yGddX-Dh"
      }
    },
    {
      "cell_type": "code",
      "execution_count": null,
      "source": [
        "'Hello {0}! Hello {1}!'.format('Python', 'World')"
      ],
      "outputs": [
        {
          "output_type": "execute_result",
          "data": {
            "application/vnd.google.colaboratory.intrinsic+json": {
              "type": "string"
            },
            "text/plain": [
              "'Hello Python! Hello World!'"
            ]
          },
          "metadata": {},
          "execution_count": 141
        }
      ],
      "metadata": {
        "colab": {
          "base_uri": "https://localhost:8080/",
          "height": 35
        },
        "id": "d0bBFRc7tdae",
        "outputId": "3c451120-5d9a-4114-ffce-3ce9153fcc30"
      }
    },
    {
      "cell_type": "markdown",
      "source": [
        "Câu 2"
      ],
      "metadata": {
        "id": "QqJ2GB0nX9L9"
      }
    },
    {
      "cell_type": "code",
      "execution_count": null,
      "source": [
        "'tomato'.count('o')"
      ],
      "outputs": [
        {
          "output_type": "execute_result",
          "data": {
            "text/plain": [
              "2"
            ]
          },
          "metadata": {},
          "execution_count": 145
        }
      ],
      "metadata": {
        "colab": {
          "base_uri": "https://localhost:8080/"
        },
        "id": "lAqZvKkctpHE",
        "outputId": "dc5162a5-7104-449b-e902-834844a6ad1a"
      }
    },
    {
      "cell_type": "markdown",
      "source": [
        "Câu 3"
      ],
      "metadata": {
        "id": "NeUwflFXX8Tk"
      }
    },
    {
      "cell_type": "code",
      "execution_count": null,
      "source": [
        "message = 'tomato'\n",
        "print(message.find('o'))"
      ],
      "outputs": [
        {
          "output_type": "stream",
          "name": "stdout",
          "text": [
            "1\n"
          ]
        }
      ],
      "metadata": {
        "colab": {
          "base_uri": "https://localhost:8080/"
        },
        "id": "TFO2e1vtuQqV",
        "outputId": "0ed295ed-afa4-4cdc-ceb0-f5a26dd89924"
      }
    },
    {
      "cell_type": "markdown",
      "source": [
        "Câu 4"
      ],
      "metadata": {
        "id": "-QaHeIF-X7IB"
      }
    },
    {
      "cell_type": "code",
      "execution_count": null,
      "source": [
        "'tomato'.find('o', 'tomato'.find('o') + 1\n"
      ],
      "outputs": [],
      "metadata": {
        "id": "M0l5SGRGW_fG"
      }
    },
    {
      "cell_type": "markdown",
      "source": [
        "Câu 5"
      ],
      "metadata": {
        "id": "zkr4g0yaX5o9"
      }
    },
    {
      "cell_type": "code",
      "execution_count": null,
      "source": [
        "\n",
        "'avocado'.find('o', 'avocado'.find('o') + 1)"
      ],
      "outputs": [],
      "metadata": {
        "id": "o85Q-ZBMXewt"
      }
    },
    {
      "cell_type": "markdown",
      "source": [
        "Câu 6"
      ],
      "metadata": {
        "id": "hLlgToNcX4yt"
      }
    },
    {
      "cell_type": "code",
      "execution_count": null,
      "source": [
        "'runner'.replace('n', 'b')"
      ],
      "outputs": [],
      "metadata": {
        "id": "OM-Aqqy8Xgvm"
      }
    },
    {
      "cell_type": "markdown",
      "source": [
        "Câu 7"
      ],
      "metadata": {
        "id": "32jmRCwnX3wp"
      }
    },
    {
      "cell_type": "code",
      "execution_count": null,
      "source": [
        "strip"
      ],
      "outputs": [],
      "metadata": {
        "id": "p08WxaEtXiZV"
      }
    },
    {
      "cell_type": "markdown",
      "source": [
        "Câu 8"
      ],
      "metadata": {
        "id": "WYQJvsugX100"
      }
    },
    {
      "cell_type": "code",
      "execution_count": null,
      "source": [
        "#a. \n",
        "fruit.count('p')\n",
        "fruit.find('p', 3)\n",
        "#b. \n",
        "fruit.upper()\n",
        "'PINEAPPLE'.swapcase()\n",
        "fruit.count('pineapple')\n",
        "#c. \n",
        "fruit.swapcase()\n",
        "fruit.lower()\n",
        "fruit.replace('PINEAPPLE', 'pineapple')"
      ],
      "outputs": [],
      "metadata": {
        "id": "gjV3cDMiXkFV"
      }
    },
    {
      "cell_type": "markdown",
      "source": [
        "Câu 9"
      ],
      "metadata": {
        "id": "ORK2rtN3XzlM"
      }
    },
    {
      "cell_type": "code",
      "execution_count": null,
      "source": [
        "\n",
        "'I love {0}!'.format(season)"
      ],
      "outputs": [],
      "metadata": {
        "id": "uFuWjw4cXm_d"
      }
    },
    {
      "cell_type": "markdown",
      "source": [
        "Câu 10"
      ],
      "metadata": {
        "id": "ZmGYZ17qXxyV"
      }
    },
    {
      "cell_type": "code",
      "execution_count": null,
      "source": [
        "'The sides have lengths {0}, {1}, and {2}.'.format(side1, side2, side3"
      ],
      "outputs": [],
      "metadata": {
        "id": "JisWSZgtXopV"
      }
    },
    {
      "cell_type": "markdown",
      "source": [],
      "metadata": {
        "id": "dHCtoZUIXwol"
      }
    },
    {
      "cell_type": "markdown",
      "source": [
        "Câu 11"
      ],
      "metadata": {
        "id": "OkC_gVMiXufd"
      }
    },
    {
      "cell_type": "code",
      "execution_count": null,
      "source": [
        "#a.\n",
        "'boolean'.capitalize()\n",
        "#b.\n",
        "'CO2 H2O'.find('2')\n",
        "#c.\n",
        "'CO2 H2O'.find('2', 'CO2 H2O'.find('2') + 1)\n",
        "#d.\n",
        "'Boolean'[0].islower()\n",
        "#e.\n",
        "\"MoNDaY\".lower().capitalize()\n",
        "#f.\n",
        "\" Monday\".lstrip()"
      ],
      "outputs": [],
      "metadata": {
        "id": "vC8klBDlXrRl"
      }
    }
  ]
}
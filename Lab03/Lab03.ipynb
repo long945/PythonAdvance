{
  "nbformat": 4,
  "nbformat_minor": 0,
  "metadata": {
    "colab": {
      "name": "Lab03.ipynb",
      "provenance": [],
      "authorship_tag": "ABX9TyN9BF/13ihOX2k9MSUb/sIJ",
      "include_colab_link": true
    },
    "kernelspec": {
      "name": "python3",
      "display_name": "Python 3"
    },
    "language_info": {
      "name": "python"
    }
  },
  "cells": [
    {
      "cell_type": "markdown",
      "metadata": {
        "id": "view-in-github",
        "colab_type": "text"
      },
      "source": [
        "<a href=\"https://colab.research.google.com/github/long945/PythonAdvance/blob/main/Lab03/Lab03.ipynb\" target=\"_parent\"><img src=\"https://colab.research.google.com/assets/colab-badge.svg\" alt=\"Open In Colab\"/></a>"
      ]
    },
    {
      "cell_type": "code",
      "metadata": {
        "id": "TrMFE7LVa-Rx"
      },
      "source": [
        "Cau1"
      ],
      "execution_count": null,
      "outputs": []
    },
    {
      "cell_type": "code",
      "metadata": {
        "id": "GFvo9d2nw3Dl"
      },
      "source": [
        "# Cau 1\n",
        "file = input('Which file would you like to back-up ? ')\n",
        "name_file = file.split('.')[0]  # lấy phần tên của file.\n",
        "new_file = name_file + '_backup' + '.bak' # tạo file backup: TenFile_backup.bak\n",
        "backup = open(new_file, 'w')\n",
        "for line in open(file):\n",
        "    print(line)\n",
        "    backup.write(line)\n",
        "backup.close()"
      ],
      "execution_count": null,
      "outputs": []
    },
    {
      "cell_type": "markdown",
      "metadata": {
        "id": "WfMzB0_5wwAe"
      },
      "source": [
        "Cau2"
      ]
    },
    {
      "cell_type": "code",
      "metadata": {
        "colab": {
          "base_uri": "https://localhost:8080/"
        },
        "id": "VLF08u5lfact",
        "outputId": "32418ef5-dc50-46bb-c702-8ff8bc39e6cb"
      },
      "source": [
        "alkaline_metals = []\n",
        "for line in open('alkaline_metals.txt'):\n",
        "    alkaline_metals.append(line.strip().split(' '))\n",
        "print('alkaline_metals = ', alkaline_metals)"
      ],
      "execution_count": null,
      "outputs": [
        {
          "output_type": "stream",
          "name": "stdout",
          "text": [
            "alkaline_metals =  [['beryllium', '4', '9.012'], ['magnesium', '12', '24.305'], ['calcium', '20', '20.078'], ['strontium', '38', '87.62'], ['barium', '56', '137.327'], ['radium', '88', '226']]\n"
          ]
        }
      ]
    },
    {
      "cell_type": "markdown",
      "metadata": {
        "id": "6KIcVCvHwvB9"
      },
      "source": [
        "Cau3"
      ]
    },
    {
      "cell_type": "code",
      "metadata": {
        "colab": {
          "base_uri": "https://localhost:8080/"
        },
        "id": "RduY-LEdf19t",
        "outputId": "f8886b2d-17c8-4891-efc0-ba89089ac3ef"
      },
      "source": [
        "# Cau 3 : đọc file và in ngược\n",
        "content = []\n",
        "for line in open('hoanglong.bak'):\n",
        "    content.append(line)\n",
        "print('Đọc ngược file:\\n ',)\n",
        "for line in reversed(content):\n",
        "    print(line)"
      ],
      "execution_count": 19,
      "outputs": [
        {
          "output_type": "stream",
          "name": "stdout",
          "text": [
            "Đọc ngược file:\n",
            " \n",
            "13\n",
            "12\n",
            "\n",
            "11\n",
            "\n",
            "10\n",
            "\n",
            "9\n",
            "\n",
            "8\n",
            "\n",
            "DH van lang\n",
            "\n",
            "187it20958\n",
            "\n",
            "Tran Kim Hoang Long \n",
            "\n",
            "Thong tin sinh vien\n",
            "\n"
          ]
        }
      ]
    },
    {
      "cell_type": "markdown",
      "metadata": {
        "id": "x4GfSGkHwtuN"
      },
      "source": [
        "Cau4"
      ]
    },
    {
      "cell_type": "code",
      "metadata": {
        "colab": {
          "base_uri": "https://localhost:8080/"
        },
        "id": "vsn7oKv_gsV9",
        "outputId": "293cf573-7e2a-4f51-c017-571063f445d6"
      },
      "source": [
        "def skip_header(reader):\n",
        "    \n",
        "    # Read the description line and then the comment lines.\n",
        "    line = reader.readline()    \n",
        "    line = reader.readline()\n",
        "    while line.startswith('#'):\n",
        "        line = reader.readline() \n",
        "    # Now line contains the first real piece of data.\n",
        "    return line\n",
        "\n",
        "def process_file(reader):\n",
        "    # Find the first piece of data.\n",
        "    line = skip_header(reader).strip()\n",
        "    print(line)\n",
        "    # Read the rest of the data.\n",
        "    for line in reader:\n",
        "        line = line.strip()\n",
        "        print(line)\n",
        "\n",
        "input_file = open('hoanglong.bak', 'r')\n",
        "process_file(input_file)\n",
        "input_file.close()\n"
      ],
      "execution_count": 27,
      "outputs": [
        {
          "output_type": "stream",
          "name": "stdout",
          "text": [
            "Tran Kim Hoang Long\n",
            "187it20958\n",
            "DH van lang\n",
            "8\n",
            "9\n",
            "10\n",
            "11\n",
            "12\n",
            "13\n"
          ]
        }
      ]
    },
    {
      "cell_type": "markdown",
      "metadata": {
        "id": "Xd_wrNTjwsJn"
      },
      "source": [
        "Cau5"
      ]
    },
    {
      "cell_type": "code",
      "metadata": {
        "id": "aBIDYEsmg8XW",
        "colab": {
          "base_uri": "https://localhost:8080/"
        },
        "outputId": "fc1b517b-0b7c-4926-f5e0-751997509f58"
      },
      "source": [
        "def smallest_value_skip(reader):\n",
        "    line = skip_header(reader).strip()\n",
        "    # Only execute this code, if there is data following the header.\n",
        "    if line != '':\n",
        "        smallest = line\n",
        "    for line in reader:\n",
        "        line = line.strip()\n",
        "        if line != '-':\n",
        "            value = line\n",
        "            smallest = min(smallest, value)\n",
        "    return smallest\n",
        "\n",
        "input_file = open('hoanglong.bak', 'r')\n",
        "print(smallest_value_skip(input_file))\n",
        "input_file.close()"
      ],
      "execution_count": 28,
      "outputs": [
        {
          "output_type": "stream",
          "name": "stdout",
          "text": [
            "10\n"
          ]
        }
      ]
    },
    {
      "cell_type": "markdown",
      "metadata": {
        "id": "10_3PkXowpvv"
      },
      "source": [
        "Cau6"
      ]
    },
    {
      "cell_type": "code",
      "metadata": {
        "colab": {
          "base_uri": "https://localhost:8080/"
        },
        "id": "i_1El2sbuDue",
        "outputId": "1e33ec58-ec09-49c1-fb12-284477000bc3"
      },
      "source": [
        "def smallest_value_skip2(reader):\n",
        "    line = skip_header(reader).strip()\n",
        "    # Now line contains the first data value; this is also the smallest value\n",
        "    # found so far, because it is the only one we have seen.\n",
        "    smallest = line\n",
        "\n",
        "    for line in reader: \n",
        "        line = line.strip()\n",
        "        if line == '-':\n",
        "            continue\n",
        "\n",
        "    value = line\n",
        "    smallest = min(smallest, value)\n",
        "\n",
        "    return smallest\n",
        "\n",
        "input_file = open('hoanglong.bak', 'r')\n",
        "print(smallest_value_skip2(input_file))\n",
        "input_file.close()"
      ],
      "execution_count": 29,
      "outputs": [
        {
          "output_type": "stream",
          "name": "stdout",
          "text": [
            "13\n"
          ]
        }
      ]
    },
    {
      "cell_type": "markdown",
      "metadata": {
        "id": "PfeeE5xgwnzm"
      },
      "source": [
        "Cau7"
      ]
    },
    {
      "cell_type": "code",
      "metadata": {
        "colab": {
          "base_uri": "https://localhost:8080/"
        },
        "id": "uUwhhLJnuJol",
        "outputId": "51bfa198-995e-4f6c-b45f-57a06991f21f"
      },
      "source": [
        "def read_molecule(reader):\n",
        "    content = []\n",
        "    for line in reader:\n",
        "        if not line.startswith('CMNT'):\n",
        "            if not line.isspace():\n",
        "                content.append(line.strip())\n",
        "    for line in content:\n",
        "        print(line)\n",
        "    \n",
        "input_file = open('hoanglong.pdb', 'r')\n",
        "print(read_molecule(input_file))\n",
        "input_file.close()"
      ],
      "execution_count": 33,
      "outputs": [
        {
          "output_type": "stream",
          "name": "stdout",
          "text": [
            "Tran Kim Hoang Long\n",
            "187it20958\n",
            "DH van lang\n",
            "Cntt\n",
            "None\n"
          ]
        }
      ]
    },
    {
      "cell_type": "markdown",
      "metadata": {
        "id": "pXGAY6Vicu5f"
      },
      "source": [
        "# Mục mới"
      ]
    }
  ]
}